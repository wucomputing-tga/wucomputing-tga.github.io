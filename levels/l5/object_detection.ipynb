{
 "cells": [
  {
   "cell_type": "markdown",
   "metadata": {},
   "source": [
    "# Yanshee-物体识别"
   ]
  },
  {
   "cell_type": "markdown",
   "metadata": {},
   "source": [
    "## 1、首先导入机器人头文件"
   ]
  },
  {
   "cell_type": "code",
   "execution_count": 5,
   "metadata": {},
   "outputs": [],
   "source": [
    "import YanAPI"
   ]
  },
  {
   "cell_type": "markdown",
   "metadata": {},
   "source": [
    "## 2、设置需要控制的机器人IP地址"
   ]
  },
  {
   "cell_type": "code",
   "execution_count": 6,
   "metadata": {},
   "outputs": [],
   "source": [
    "ip_addr = \"127.0.0.1\" # please change to your yanshee robot IP\n",
    "YanAPI.yan_api_init(ip_addr)"
   ]
  },
  {
   "cell_type": "markdown",
   "metadata": {},
   "source": [
    "## 3、调用物体识别接口进行识别\n",
    "\n",
    "### 物体识别时建议人脸正视机器人摄像头并距离摄像头30-50cm左右"
   ]
  },
  {
   "cell_type": "code",
   "execution_count": 7,
   "metadata": {},
   "outputs": [
    {
     "name": "stdout",
     "output_type": "stream",
     "text": [
      "{'data': {'recognition': {'name': 'qr_code'}}, 'code': 0, 'timestamp': 1737620238, 'status': 'idle', 'msg': 'Success', 'type': 'recognition'}\n"
     ]
    }
   ],
   "source": [
    "res = YanAPI.sync_do_object_recognition()\n",
    "print(res)"
   ]
  },
  {
   "cell_type": "markdown",
   "metadata": {},
   "source": [
    "## 4、打印识别结果\n",
    "\n",
    "### 物体识别的结果包括44种物体：悟空机器人、Yanshee机器人、魔方、二维码、苹果等"
   ]
  },
  {
   "cell_type": "code",
   "execution_count": 8,
   "metadata": {},
   "outputs": [
    {
     "name": "stdout",
     "output_type": "stream",
     "text": [
      "\n",
      "识别到结果为： \n",
      "qr_code\n"
     ]
    }
   ],
   "source": [
    "object_val = res[\"data\"][\"recognition\"][\"name\"]\n",
    "if object_val != \"none\"  :\n",
    "    print(\"\\n识别到结果为： \")\n",
    "    print(res[\"data\"][\"recognition\"][\"name\"])\n",
    "else:\n",
    "    print(\" \\n没有发现物体\")\n"
   ]
  },
  {
   "cell_type": "code",
   "execution_count": null,
   "metadata": {},
   "outputs": [],
   "source": []
  },
  {
   "cell_type": "code",
   "execution_count": null,
   "metadata": {},
   "outputs": [],
   "source": []
  },
  {
   "cell_type": "code",
   "execution_count": null,
   "metadata": {},
   "outputs": [],
   "source": []
  }
 ],
 "metadata": {
  "kernelspec": {
   "display_name": "Python 3",
   "language": "python",
   "name": "python3"
  },
  "language_info": {
   "codemirror_mode": {
    "name": "ipython",
    "version": 3
   },
   "file_extension": ".py",
   "mimetype": "text/x-python",
   "name": "python",
   "nbconvert_exporter": "python",
   "pygments_lexer": "ipython3",
   "version": "3.5.3"
  }
 },
 "nbformat": 4,
 "nbformat_minor": 4
}
